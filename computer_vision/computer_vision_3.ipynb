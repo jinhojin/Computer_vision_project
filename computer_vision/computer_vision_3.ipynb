{
 "cells": [
  {
   "cell_type": "code",
   "execution_count": 77,
   "id": "f4d73496",
   "metadata": {},
   "outputs": [],
   "source": [
    "import numpy as np\n",
    "from PIL import Image\n",
    "\n",
    "name = \"p3.png\" #file_name\n",
    "im = Image.open(name)\n",
    "cimg = np.array(im)\n",
    "im_col, im_row = im.size\n",
    "gimg2d = np.full((im_row, im_col),0)\n",
    "\n",
    "for i in range(im_row):\n",
    "    for j in range(im_col):\n",
    "        if(cimg[i][j][0] < 150):\n",
    "            gimg2d[i][j] = 0\n",
    "        elif(cimg[i][j][1] >220):\n",
    "            gimg2d[i][j] = 0\n",
    "        elif(cimg[i][j][2] >150):\n",
    "            gimg2d[i][j] = 0\n",
    "        else:\n",
    "            gimg2d[i][j] = 255\n",
    "        \n",
    "        for k in range(0,3):\n",
    "            cimg[i][j][k] = gimg2d[i][j]\n",
    "\n",
    "img2 = Image.fromarray(cimg)\n",
    "img2.save(\"RGB_\"+name)"
   ]
  },
  {
   "cell_type": "code",
   "execution_count": 78,
   "id": "2e6a49a7",
   "metadata": {},
   "outputs": [],
   "source": [
    "msize = 3\n",
    "def intlimit(val):\n",
    "    if val>255:\n",
    "        val=255\n",
    "    elif val<0:\n",
    "        val=0\n",
    "    return round(val)\n",
    "\n",
    "def sobel(gimg):\n",
    "    sobel_x = np.array([[-1,0,1],[-2,0,2] ,[-1,0,1]])\n",
    "    sobel_y = np.array([[1,2,1],[0,0,0],[-1,-2,-1]])\n",
    "    [sobel_row, sobel_col] = np.shape(gimg)\n",
    "    sobeled = np.zeros(shape=(sobel_row,sobel_col))\n",
    "    \n",
    "    \n",
    "    for i in range(sobel_row - msize + 1):\n",
    "        for j in range(sobel_col -msize + 1):\n",
    "            x=np.sum(np.multiply(sobel_x, gimg[i:i + msize, j:j + msize]))\n",
    "            y=np.sum(np.multiply(sobel_y, gimg[i:i + msize, j:j + msize]))\n",
    "            sobeled[i+1,j+1] = intlimit(np.sqrt(pow(x,2) + pow(y,2)))\n",
    "    return sobeled\n",
    "\n",
    "def gray2dtocolor3d(gimg,cimg):\n",
    "    row,col=gimg.shape\n",
    "    for i in range(row):\n",
    "        for j in range(col):\n",
    "            for k in range(3):\n",
    "                cimg[i][j][k]=gimg[i][j]\n",
    "                \n",
    "def color3dtogray2d(cimg,gimg):\n",
    "    row,col=gimg.shape\n",
    "    for i in range(row):\n",
    "        for j in range(col):\n",
    "            gimg[i][j]=int(0.299*cimg[i][j][0]+0.587*cimg[i][j][1]+0.114*cimg[i][j][2])\n"
   ]
  },
  {
   "cell_type": "code",
   "execution_count": 25,
   "id": "b372c188",
   "metadata": {},
   "outputs": [],
   "source": [
    "name_2 = \"RGB_\"+name\n",
    "im_2 = Image.open(name_2)\n",
    "cimg_2 = np.array(im_2)\n",
    "im_2_col, im_2_row = im_2.size\n",
    "gimg2d_2 = np.full((im_2_row, im_2_col),0)\n",
    "\n",
    "color3dtogray2d(cimg_2, gimg2d_2)\n",
    "\n",
    "gimg2d_2 = sobel(gimg2d_2)\n",
    "gray2dtocolor3d(gimg2d_2,cimg_2)\n",
    "im4 = Image.fromarray(cimg_2)\n",
    "im4.save(\"sobel_\"+name_2)"
   ]
  },
  {
   "cell_type": "code",
   "execution_count": 79,
   "id": "e17ecd28",
   "metadata": {},
   "outputs": [
    {
     "name": "stdout",
     "output_type": "stream",
     "text": [
      "Gam\n"
     ]
    }
   ],
   "source": [
    "name_3 = \"RGB_\"+name\n",
    "im_3 = Image.open(name_3)\n",
    "cimg_3 = np.array(im_3)\n",
    "im_3_col, im_3_row = im_3.size\n",
    "gimg_3 = np.full((im_3_row, im_3_col),0)\n",
    "color3dtogray2d(cimg_3, gimg_3)\n",
    "\n",
    "gimg_3\n",
    "pixel_cnt = 0\n",
    "black_cnt = 0\n",
    "\n",
    "for i in range(im_3_row):\n",
    "    for j in range(im_3_col):\n",
    "        if(i > (im_3_row/6) and i < (im_3_row*5/6)):\n",
    "            if(j>(im_3_col/6) and j< (im_3_col*5/6)):\n",
    "                pixel_cnt += 1\n",
    "                \n",
    "                if(gimg_3[i][j] == 0):\n",
    "                    black_cnt += 1\n",
    "\n",
    "if(black_cnt/pixel_cnt > 0.2):\n",
    "    print(\"Gam\")\n",
    "else:\n",
    "    print(\"Geul\")"
   ]
  },
  {
   "cell_type": "code",
   "execution_count": null,
   "id": "dbed4796",
   "metadata": {},
   "outputs": [],
   "source": []
  }
 ],
 "metadata": {
  "kernelspec": {
   "display_name": "Python 3 (ipykernel)",
   "language": "python",
   "name": "python3"
  },
  "language_info": {
   "codemirror_mode": {
    "name": "ipython",
    "version": 3
   },
   "file_extension": ".py",
   "mimetype": "text/x-python",
   "name": "python",
   "nbconvert_exporter": "python",
   "pygments_lexer": "ipython3",
   "version": "3.9.12"
  }
 },
 "nbformat": 4,
 "nbformat_minor": 5
}
